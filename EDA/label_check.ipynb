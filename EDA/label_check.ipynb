{
 "cells": [
  {
   "cell_type": "code",
   "execution_count": 2,
   "metadata": {},
   "outputs": [],
   "source": [
    "import pandas as pd"
   ]
  },
  {
   "cell_type": "code",
   "execution_count": 3,
   "metadata": {},
   "outputs": [],
   "source": [
    "result_df = pd.read_csv('../data_preprocessed_ts/train_label/y_concated_regression.csv')"
   ]
  },
  {
   "cell_type": "code",
   "execution_count": 4,
   "metadata": {},
   "outputs": [],
   "source": [
    "# S1: TST\n",
    "result_df[\"total_sleep_time\"] = result_df[\"deepsleepduration\"] + result_df[\"lightsleepduration\"] + result_df[\"remsleepduration\"]\n",
    "\n",
    "# S2: sleepEfficiency\n",
    "result_df[\"sleep_efficiency\"] = (result_df[\"deepsleepduration\"] + result_df[\"lightsleepduration\"] + result_df[\"remsleepduration\"]) / (result_df[\"wakeupduration\"] + result_df[\"deepsleepduration\"] + result_df[\"lightsleepduration\"] + result_df[\"remsleepduration\"]) * 100\n",
    "\n",
    "# S3: sleepLatency: durationtosleep\n",
    "\n",
    "# S4: WASO\n",
    "result_df[\"waso\"] = result_df[\"wakeupduration\"] - result_df[\"durationtosleep\"] - result_df[\"durationtowakeup\"]"
   ]
  },
  {
   "cell_type": "code",
   "execution_count": 5,
   "metadata": {},
   "outputs": [],
   "source": [
    "def calculate_mean_and_compare(df, group_col, target_col):\n",
    "    \"\"\"\n",
    "    각 유저별로 주어진 컬럼의 평균을 계산하고, 그 평균을 기준으로 원래 값이 높으면 1, 낮으면 0을 할당합니다.\n",
    "    이 때, 원본 데이터프레임은 변경되지 않습니다.\n",
    "    \n",
    "    Parameters:\n",
    "    df (pandas.DataFrame): 데이터를 포함하고 있는 데이터프레임\n",
    "    group_col (str): 그룹화할 컬럼의 이름\n",
    "    target_col (str): 평균을 계산할 대상 컬럼의 이름\n",
    "    \n",
    "    Returns:\n",
    "    pandas.DataFrame: 평균 값과 비교 결과를 포함한 새로운 데이터프레임\n",
    "    \"\"\"\n",
    "    # 데이터프레임을 복사하여 원본 데이터 보호\n",
    "    df_copy = df.copy()\n",
    "\n",
    "    # 그룹별로 target_col의 평균을 계산\n",
    "    mean_series = df_copy.groupby(group_col)[target_col].mean()\n",
    "    \n",
    "    # 평균을 기존 데이터프레임에 결합\n",
    "    df_copy = df_copy.join(mean_series, on=group_col, rsuffix='_mean')\n",
    "    \n",
    "    # 평균보다 높은지 여부를 계산하여 새로운 컬럼에 할당\n",
    "    df_copy[target_col + '_higher_than_avg'] = (df_copy[target_col] > df_copy[target_col + '_mean']).astype(int)\n",
    "    \n",
    "    return df_copy"
   ]
  },
  {
   "cell_type": "code",
   "execution_count": 6,
   "metadata": {},
   "outputs": [],
   "source": [
    "def add_label_based_on_threshold(df, column_name, threshold, is_higher):\n",
    "    # 데이터프레임 복사\n",
    "    df_copy = df.copy()\n",
    "    \n",
    "    # 새 라벨 컬럼 이름 설정\n",
    "    new_column_name = column_name + '_label'\n",
    "    \n",
    "    # 새 라벨 컬럼 추가\n",
    "    if is_higher:\n",
    "        df_copy[new_column_name] = (df_copy[column_name] > threshold).astype(int)\n",
    "    else:\n",
    "        df_copy[new_column_name] = (df_copy[column_name] < threshold).astype(int)\n",
    "    \n",
    "    return df_copy\n",
    "\n",
    "\n",
    "def add_label_based_on_threshold_between(df, column_name, threshold):\n",
    "    # 데이터프레임 복사\n",
    "    df_copy = df.copy()\n",
    "    \n",
    "    # 새 라벨 컬럼 이름 설정\n",
    "    new_column_name = column_name + '_label'\n",
    "    \n",
    "    # 새 라벨 컬럼 추가\n",
    "    df_copy[new_column_name] = ((df_copy[column_name] > threshold[0]) & (df_copy[column_name] < threshold[1])).astype(int)\n",
    "    \n",
    "    return df_copy"
   ]
  },
  {
   "cell_type": "code",
   "execution_count": 7,
   "metadata": {},
   "outputs": [
    {
     "name": "stdout",
     "output_type": "stream",
     "text": [
      "Q1 - sleep 정확도: 0.96\n",
      "Q2 - pmEmotion 정확도: 0.98\n",
      "Q3 - pmStress 정확도: 0.95\n"
     ]
    }
   ],
   "source": [
    "q1_result_df = calculate_mean_and_compare(result_df, 'userId', 'sleep')\n",
    "q2_result_df = calculate_mean_and_compare(result_df, 'userId', 'pmEmotion')\n",
    "q3_result_df = calculate_mean_and_compare(result_df, 'userId', 'pmStress')\n",
    "\n",
    "q1_accuracy = (q1_result_df['sleep_higher_than_avg'] == q1_result_df['Q1']).mean()\n",
    "q2_accuracy = (q2_result_df['pmEmotion_higher_than_avg'] == q2_result_df['Q2']).mean()\n",
    "q3_accuracy = (q3_result_df['pmStress_higher_than_avg'] == q3_result_df['Q3']).mean()\n",
    "\n",
    "print(f'Q1 - sleep 정확도: {q1_accuracy:.2f}')\n",
    "print(f'Q2 - pmEmotion 정확도: {q2_accuracy:.2f}')\n",
    "print(f'Q3 - pmStress 정확도: {q3_accuracy:.2f}')"
   ]
  },
  {
   "cell_type": "code",
   "execution_count": 10,
   "metadata": {},
   "outputs": [
    {
     "name": "stdout",
     "output_type": "stream",
     "text": [
      "S1 - totalsleeptime 정확도: 0.98\n",
      "S2 - sleepEfficiency 정확도: 0.98\n",
      "S3 - durationtosleep 정확도: 0.97\n",
      "S4 - waso 정확도: 0.99\n"
     ]
    }
   ],
   "source": [
    "s1_result_df = add_label_based_on_threshold_between(result_df, 'total_sleep_time', (7*60*60, 9*60*60))\n",
    "s2_result_df = add_label_based_on_threshold(result_df, 'sleep_efficiency', 0.85 * 100, is_higher=True)\n",
    "s3_result_df = add_label_based_on_threshold(result_df, 'durationtosleep', 30 * 60, is_higher=False)\n",
    "s4_result_df = add_label_based_on_threshold(result_df, 'waso', 20 * 60, is_higher=False)\n",
    "\n",
    "s1_accuracy = (s1_result_df['total_sleep_time_label'] == s1_result_df['S1']).mean()\n",
    "s2_accuracy = (s2_result_df['sleep_efficiency_label'] == s2_result_df['S2']).mean()\n",
    "s3_accuracy = (s3_result_df['durationtosleep_label'] == s3_result_df['S3']).mean()\n",
    "s4_accuracy = (s4_result_df['waso_label'] == s4_result_df['S4']).mean()\n",
    "\n",
    "print(f'S1 - totalsleeptime 정확도: {s1_accuracy:.2f}')\n",
    "print(f'S2 - sleepEfficiency 정확도: {s2_accuracy:.2f}')\n",
    "print(f'S3 - durationtosleep 정확도: {s3_accuracy:.2f}')\n",
    "print(f'S4 - waso 정확도: {s4_accuracy:.2f}')"
   ]
  },
  {
   "cell_type": "code",
   "execution_count": null,
   "metadata": {},
   "outputs": [],
   "source": [
    "# result_df[\"y1\"] = result_df[\"sleep\"]\n",
    "# result_df[\"y2\"] = result_df[\"pmEmotion\"]\n",
    "# result_df[\"y3\"] = result_df[\"pmStress\"]\n",
    "\n",
    "# result_df[\"y4\"] = result_df[\"deepsleepduration\"] + result_df[\"lightsleepduration\"] + result_df[\"remsleepduration\"]\n",
    "# result_df[\"y5\"] = result_df[\"wakeupduration\"]\n",
    "# result_df[\"y6\"] = result_df[\"durationtosleep\"]\n",
    "# result_df[\"y7\"] = result_df[\"durationtowakeup\"]"
   ]
  }
 ],
 "metadata": {
  "kernelspec": {
   "display_name": "Python 3",
   "language": "python",
   "name": "python3"
  },
  "language_info": {
   "codemirror_mode": {
    "name": "ipython",
    "version": 3
   },
   "file_extension": ".py",
   "mimetype": "text/x-python",
   "name": "python",
   "nbconvert_exporter": "python",
   "pygments_lexer": "ipython3",
   "version": "3.1.-1"
  }
 },
 "nbformat": 4,
 "nbformat_minor": 2
}
